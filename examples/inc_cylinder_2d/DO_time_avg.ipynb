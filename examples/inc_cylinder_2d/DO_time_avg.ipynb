{
 "cells": [
  {
   "cell_type": "code",
   "execution_count": 6,
   "id": "fd8b3ac3",
   "metadata": {},
   "outputs": [],
   "source": [
    "from pyfr.readers.native import NativeReader\n",
    "from pyfr.inifile import Inifile\n",
    "\n",
    "import numpy as np\n",
    "import h5py\n",
    "from collections import defaultdict"
   ]
  },
  {
   "cell_type": "code",
   "execution_count": 13,
   "id": "5f1dd92c",
   "metadata": {},
   "outputs": [
    {
     "name": "stdout",
     "output_type": "stream",
     "text": [
      "(16, 3, 196)\n",
      "(10, 3, 3231)\n"
     ]
    }
   ],
   "source": [
    "class time_average(object):\n",
    "    def __init__(self):\n",
    "        # Series time\n",
    "        start  = 0  #60\n",
    "        end    = 75   #90\n",
    "        self.dt = dt = 5     #5\n",
    "\n",
    "        tt = np.arange(start, end, dt)\n",
    "        self.time = list()\n",
    "        for i in range(len(tt)):\n",
    "            self.time.append(\"{:.2f}\".format(tt[i]))\n",
    "        \n",
    "        \n",
    "    def load_and_avg(self):\n",
    "        \n",
    "        self.soln_mean = defaultdict()\n",
    "        temp = defaultdict()\n",
    "        for t in self.time:\n",
    "        \n",
    "            name_prefix = f'inc_cylinder_2d-{t}.pyfrs'\n",
    "            \n",
    "            soln = NativeReader(name_prefix)\n",
    "            \n",
    "            for k in soln:\n",
    "                if k.split('_')[0] == 'soln':\n",
    "                    try:\n",
    "                        self.soln_mean[k] += soln[k]\n",
    "                    except KeyError:\n",
    "                        self.soln_mean[k] = soln[k]\n",
    "                        self.mesh_uuid = soln['mesh_uuid']\n",
    "                        self.cfg = Inifile(soln['config'])\n",
    "                        self.stats = Inifile(soln['stats'])\n",
    "                        \n",
    "        self.write_out()\n",
    "        \n",
    "            \n",
    "    def write_out(self):\n",
    "        \n",
    "        out_putname = f'avg_soln.pyfrs'\n",
    "        \n",
    "        f = h5py.File(out_putname,'w')\n",
    "        f['config'] = self.cfg.tostr()\n",
    "        f['mesh_uuid'] = self.mesh_uuid\n",
    "        for key in self.soln_mean:\n",
    "            f[key] = self.soln_mean[key]/len(self.time)\n",
    "            print(self.soln_mean[key].shape)\n",
    "        f['stats'] = self.stats.tostr()\n",
    "        f.close()\n",
    "                            \n",
    "            \n",
    "time_average().load_and_avg()"
   ]
  },
  {
   "cell_type": "code",
   "execution_count": null,
   "id": "d52d7bfa",
   "metadata": {},
   "outputs": [],
   "source": []
  }
 ],
 "metadata": {
  "kernelspec": {
   "display_name": "Python 3 (ipykernel)",
   "language": "python",
   "name": "python3"
  },
  "language_info": {
   "codemirror_mode": {
    "name": "ipython",
    "version": 3
   },
   "file_extension": ".py",
   "mimetype": "text/x-python",
   "name": "python",
   "nbconvert_exporter": "python",
   "pygments_lexer": "ipython3",
   "version": "3.8.8"
  }
 },
 "nbformat": 4,
 "nbformat_minor": 5
}
